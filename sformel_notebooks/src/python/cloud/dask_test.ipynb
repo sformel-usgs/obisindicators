{
 "cells": [
  {
   "cell_type": "markdown",
   "id": "197e8757-b4cc-4984-9933-388740ad4ae3",
   "metadata": {},
   "source": [
    "## Example notebooks:\n",
    "\n",
    "https://jupyter.qhub.esipfed.org/user/sformel-usgs/lab/workspaces/auto-q/tree/shared/users/rsignell/repos/hytest/dataset_access/conus404_explore.ipynb?redirects=1&reset\n",
    "\n",
    "## Welcome notebook\n",
    "\n",
    "https://jupyter.qhub.esipfed.org/hub/user-redirect/lab/tree/shared/users/Welcome.ipynb"
   ]
  },
  {
   "cell_type": "markdown",
   "id": "a095d03f-9e31-4d58-badf-9f6234735d67",
   "metadata": {},
   "source": [
    "## Some code I used to see how different functions work"
   ]
  },
  {
   "cell_type": "code",
   "execution_count": null,
   "id": "8d338795-def2-4afd-ad18-d90f123d58d2",
   "metadata": {},
   "outputs": [],
   "source": [
    "from dask_gateway import Gateway\n",
    "\n",
    "gateway = Gateway()\n",
    "\n",
    "clusters = gateway.list_clusters()\n",
    "clusters"
   ]
  },
  {
   "cell_type": "code",
   "execution_count": null,
   "id": "fd36b29a-1658-447b-8939-d76e4b33c773",
   "metadata": {},
   "outputs": [],
   "source": [
    "options = gateway.cluster_options()\n",
    "options"
   ]
  },
  {
   "cell_type": "code",
   "execution_count": null,
   "id": "d6c3eb72-ff29-4ed4-aabe-3c6aa548fd8e",
   "metadata": {},
   "outputs": [],
   "source": [
    "cluster = gateway.new_cluster(options)\n",
    "cluster"
   ]
  },
  {
   "cell_type": "code",
   "execution_count": null,
   "id": "488b74c4-ad26-4f91-8bd4-79a8233a9272",
   "metadata": {},
   "outputs": [],
   "source": [
    "cluster = gateway.connect(clusters[0].name)"
   ]
  },
  {
   "cell_type": "code",
   "execution_count": null,
   "id": "8b6c7107-30ef-4cc7-a8ba-d036ab0ee377",
   "metadata": {},
   "outputs": [],
   "source": [
    "client = cluster.get_client()\n",
    "client"
   ]
  },
  {
   "cell_type": "code",
   "execution_count": null,
   "id": "a154fe0f-a014-4c99-99f9-384057590bdf",
   "metadata": {},
   "outputs": [],
   "source": [
    "cluster = gateway.connect()\n"
   ]
  },
  {
   "cell_type": "code",
   "execution_count": null,
   "id": "c26debe7-1d9b-4e34-94e8-fe8c351c4c41",
   "metadata": {},
   "outputs": [],
   "source": [
    "cluster.shutdown()"
   ]
  }
 ],
 "metadata": {
  "kernelspec": {
   "display_name": "users-pangeo",
   "language": "python",
   "name": "conda-env-users-pangeo-py"
  },
  "language_info": {
   "codemirror_mode": {
    "name": "ipython",
    "version": 3
   },
   "file_extension": ".py",
   "mimetype": "text/x-python",
   "name": "python",
   "nbconvert_exporter": "python",
   "pygments_lexer": "ipython3",
   "version": "3.9.13"
  }
 },
 "nbformat": 4,
 "nbformat_minor": 5
}
