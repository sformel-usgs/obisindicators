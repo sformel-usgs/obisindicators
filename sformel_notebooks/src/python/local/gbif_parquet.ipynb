{
 "cells": [
  {
   "cell_type": "code",
   "execution_count": null,
   "id": "5cb7f266-18d8-4690-a4d0-bbadf1d1625a",
   "metadata": {},
   "outputs": [],
   "source": [
    "import fsspec\n",
    "import dask.dataframe as dd"
   ]
  },
  {
   "cell_type": "code",
   "execution_count": null,
   "id": "c6afc0c0-7a16-4442-bdc6-8e7120f79c05",
   "metadata": {},
   "outputs": [],
   "source": [
    "fs = fsspec.filesystem('s3', anon=True)"
   ]
  },
  {
   "cell_type": "code",
   "execution_count": null,
   "id": "57640208-d35e-4b3c-83e6-c36aa4434eda",
   "metadata": {},
   "outputs": [],
   "source": [
    "fs.ls('s3://gbif-open-data-us-east-1/')"
   ]
  },
  {
   "cell_type": "code",
   "execution_count": null,
   "id": "4208cbd2-965a-4dd6-b72e-bc6235c4d011",
   "metadata": {},
   "outputs": [],
   "source": [
    "day_list = fs.ls('s3://gbif-open-data-us-east-1/occurrence/')\n",
    "day_list[-1]"
   ]
  },
  {
   "cell_type": "code",
   "execution_count": null,
   "id": "c5cda2b7-e5cf-49a8-a428-48c13d1489dd",
   "metadata": {},
   "outputs": [],
   "source": [
    "fs.ls(day_list[-1])"
   ]
  },
  {
   "cell_type": "code",
   "execution_count": null,
   "id": "9df0c9bf-ab95-4a51-8b0a-fd61620ad4de",
   "metadata": {},
   "outputs": [],
   "source": [
    "df = dd.read_parquet('s3://gbif-open-data-us-east-1/occurrence/2022-11-01/occurrence.parquet/*', storage_options={\"anon\": True})"
   ]
  },
  {
   "cell_type": "code",
   "execution_count": null,
   "id": "6986c7ea-5a65-4fb7-bdf6-f87a9408be88",
   "metadata": {},
   "outputs": [],
   "source": [
    "subset = df[[\"decimallongitude\",\\\n",
    "             \"decimallatitude\",\\\n",
    "             \"year\",\\\n",
    "             \"species\"]].compute().dropna(subset=[\"species\"])"
   ]
  },
  {
   "cell_type": "code",
   "execution_count": null,
   "id": "bdd97df0-bae2-49e0-96d0-4d724da9fcfc",
   "metadata": {},
   "outputs": [],
   "source": [
    "subset.groupby([\"year\",\"decimallongitude\", \"decimallatitude\"]).count()"
   ]
  }
 ],
 "metadata": {
  "kernelspec": {
   "display_name": "users-pangeo",
   "language": "python",
   "name": "conda-env-users-pangeo-py"
  },
  "language_info": {
   "codemirror_mode": {
    "name": "ipython",
    "version": 3
   },
   "file_extension": ".py",
   "mimetype": "text/x-python",
   "name": "python",
   "nbconvert_exporter": "python",
   "pygments_lexer": "ipython3",
   "version": "3.9.13"
  },
  "widgets": {
   "application/vnd.jupyter.widget-state+json": {
    "state": {},
    "version_major": 2,
    "version_minor": 0
   }
  }
 },
 "nbformat": 4,
 "nbformat_minor": 5
}
